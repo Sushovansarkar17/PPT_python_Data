{
 "cells": [
  {
   "cell_type": "markdown",
   "id": "5f07fe87-df48-479b-8f2c-a8ca2464475a",
   "metadata": {},
   "source": [
    "Q1"
   ]
  },
  {
   "cell_type": "code",
   "execution_count": 1,
   "id": "d50a8cd0-27f7-40d1-8d1b-ded436b5c3a9",
   "metadata": {},
   "outputs": [
    {
     "name": "stdin",
     "output_type": "stream",
     "text": [
      "Enter a string:  123\n"
     ]
    },
    {
     "name": "stdout",
     "output_type": "stream",
     "text": [
      "Reversed string: 321\n"
     ]
    }
   ],
   "source": [
    "def reverse_string(string):\n",
    "    reversed_string = ''\n",
    "    for i in range(len(string) - 1, -1, -1):\n",
    "        reversed_string += string[i]\n",
    "    return reversed_string\n",
    "\n",
    "# Example usage\n",
    "input_string = input(\"Enter a string: \")\n",
    "reversed_string = reverse_string(input_string)\n",
    "print(\"Reversed string:\", reversed_string)"
   ]
  },
  {
   "cell_type": "markdown",
   "id": "e6ed86cb-b5a7-4b03-a552-47e9d8b10d7b",
   "metadata": {},
   "source": [
    "In this program, the `reverse_string` function takes a string as input and iterates over it in reverse order using a `for` loop. It starts from the last index \n",
    "(`len(string) - 1`) and goes down to the first index (`0`) with a step size of `-1`. During each iteration, it concatenates the character at the current index to the `reversed_string` variable. Finally, it returns the reversed string.\n",
    "\n",
    "\n",
    "The program prompts the user to enter a string, calls the `reverse_string` function, and then prints the reversed string."
   ]
  },
  {
   "cell_type": "markdown",
   "id": "dad7fad9-fb24-4da0-8152-4f8188a0a37f",
   "metadata": {},
   "source": [
    "Q2"
   ]
  },
  {
   "cell_type": "code",
   "execution_count": 10,
   "id": "6e6d11fb-bd57-404f-93f6-ca4c1856551d",
   "metadata": {},
   "outputs": [
    {
     "name": "stdin",
     "output_type": "stream",
     "text": [
      "Enter a string:  \"radar\"\n"
     ]
    },
    {
     "name": "stdout",
     "output_type": "stream",
     "text": [
      "The string is a palindrome.\n"
     ]
    }
   ],
   "source": [
    "def is_palindrome(input_string):\n",
    "    # Remove spaces and convert to lowercase\n",
    "    input_string = input_string.replace(\" \", \"\").lower()\n",
    "\n",
    "    # Compare the original string with its reverse\n",
    "    return input_string == input_string[::-1]\n",
    "\n",
    "# Example usage\n",
    "string_to_check = input(\"Enter a string: \")\n",
    "if is_palindrome(string_to_check):\n",
    "    print(\"The string is a palindrome.\")\n",
    "else:\n",
    "    print(\"The string is not a palindrome.\")\n"
   ]
  },
  {
   "cell_type": "markdown",
   "id": "8531c383-2d1a-4a94-9a23-2292034179c8",
   "metadata": {},
   "source": [
    "In this program, the `is_palindrome` function takes an input string and performs the following steps:\n",
    "\n",
    "1.It removes any spaces from the string using the `replace` function and converts the string to lowercase using the `lower` method.\n",
    "\n",
    "2.It compares the modified string with its reverse by using string slicing with a step of -1 (`[::-1]`). This creates a reversed copy of the string.\n",
    "\n",
    "3.The function returns `True` if the modified string is equal to its reverse, indicating that the input string is a palindrome. Otherwise, it returns `False`.\n",
    "\n",
    "This program and provide a string to check if it is a palindrome. The program will output whether the string is a palindrome or not."
   ]
  },
  {
   "cell_type": "markdown",
   "id": "71093128-7584-4d69-9751-13abc28718e4",
   "metadata": {},
   "source": [
    "Q3"
   ]
  },
  {
   "cell_type": "code",
   "execution_count": 12,
   "id": "5d59ff5b-3895-4a7f-a92a-85c388f13daf",
   "metadata": {},
   "outputs": [
    {
     "name": "stdout",
     "output_type": "stream",
     "text": [
      "The largest element is: 42\n"
     ]
    }
   ],
   "source": [
    "def find_largest_element(lst):\n",
    "    if not lst:\n",
    "        return None  # Return None if the list is empty\n",
    "\n",
    "    largest = lst[0]  # Assume the first element is the largest\n",
    "\n",
    "    for num in lst:\n",
    "        if num > largest:\n",
    "            largest = num\n",
    "\n",
    "    return largest\n",
    "\n",
    "# Example usage\n",
    "input_list = [15, 28, 7, 42, 39, 10]\n",
    "largest_element = find_largest_element(input_list)\n",
    "print(\"The largest element is:\", largest_element)\n"
   ]
  },
  {
   "cell_type": "markdown",
   "id": "0b0f725f-db81-416d-9943-d0907db0d91d",
   "metadata": {},
   "source": [
    "In this program, the `find_largest_element` function takes a list (`lst`) as input and performs the following steps:\n",
    "\n",
    "1.It checks if the list is empty. If it is, it returns `None` to indicate that there is no largest element.\n",
    "\n",
    "2.It initializes a variable `largest` with the first element of the list (`lst[0]`).\n",
    "\n",
    "3.It iterates over each element (`num`) in the list.\n",
    "\n",
    "4.For each element, it compares it with the current `largest` value. If the element is greater than `largest`, it updates `largest` to that element.\n",
    "\n",
    "5.After iterating through all elements, it returns the `largest` value."
   ]
  },
  {
   "cell_type": "markdown",
   "id": "8baefea4-61e7-41a0-b927-d586bc42b923",
   "metadata": {},
   "source": [
    "Q4"
   ]
  },
  {
   "cell_type": "code",
   "execution_count": 14,
   "id": "5df248cf-7208-4c1c-9c07-a3631ab4e51e",
   "metadata": {},
   "outputs": [
    {
     "name": "stdout",
     "output_type": "stream",
     "text": [
      "Element   Occurrence\n",
      "      10          3\n",
      "      20          2\n",
      "      30          1\n",
      "      40          1\n"
     ]
    }
   ],
   "source": [
    "def count_occurrences(lst):\n",
    "    occurrence_count = {}\n",
    "\n",
    "    for element in lst:\n",
    "        if element in occurrence_count:\n",
    "            occurrence_count[element] += 1\n",
    "        else:\n",
    "            occurrence_count[element] = 1\n",
    "\n",
    "    return occurrence_count\n",
    "\n",
    "# Example usage\n",
    "input_list = [10, 20, 30, 10, 40, 20, 10]\n",
    "occurrence_dict = count_occurrences(input_list)\n",
    "\n",
    "print(\"Element   Occurrence\")\n",
    "for element, count in occurrence_dict.items():\n",
    "    print(f\"{element:8} {count:10}\")\n"
   ]
  },
  {
   "cell_type": "markdown",
   "id": "bbde6374-9db8-4cc0-9fb8-92754ec18061",
   "metadata": {},
   "source": [
    "In the example usage, the program counts the occurrences of elements in the `input_list` and prints each element along with its occurrence count. The output will display each unique element in the list and the number of times it appears."
   ]
  },
  {
   "cell_type": "markdown",
   "id": "5991e937-0499-4c8c-8416-303f706b16da",
   "metadata": {},
   "source": [
    "Q5"
   ]
  },
  {
   "cell_type": "code",
   "execution_count": 15,
   "id": "d0bb52cc-cf23-4bf7-ad9f-92ce89a2e15a",
   "metadata": {},
   "outputs": [
    {
     "name": "stdout",
     "output_type": "stream",
     "text": [
      "The second largest number is: 39\n"
     ]
    }
   ],
   "source": [
    "def find_second_largest(lst):\n",
    "    if len(lst) < 2:\n",
    "        return None  # Return None if the list has less than two elements\n",
    "\n",
    "    largest = float('-inf')  # Initialize the largest and second largest variables\n",
    "    second_largest = float('-inf')\n",
    "\n",
    "    for num in lst:\n",
    "        if num > largest:\n",
    "            second_largest = largest\n",
    "            largest = num\n",
    "        elif num > second_largest and num != largest:\n",
    "            second_largest = num\n",
    "\n",
    "    if second_largest == float('-inf'):\n",
    "        return None  # Return None if there is no second largest element\n",
    "    else:\n",
    "        return second_largest\n",
    "\n",
    "# Example usage\n",
    "input_list = [15, 28, 7, 42, 39, 10]\n",
    "second_largest_number = find_second_largest(input_list)\n",
    "\n",
    "if second_largest_number is None:\n",
    "    print(\"There is no second largest number.\")\n",
    "else:\n",
    "    print(\"The second largest number is:\", second_largest_number)\n"
   ]
  },
  {
   "cell_type": "markdown",
   "id": "52952007-f0e3-45f0-9711-36975bccc89a",
   "metadata": {},
   "source": [
    "In this program, the `find_second_largest` function takes a list (`lst`) as input and performs the following steps:\n",
    "\n",
    "1.It checks if the list has less than two elements. If it does, it returns `None` to indicate that there is no second largest number.\n",
    "\n",
    "2.It initializes two variables, `largest` and `second_largest`, with negative infinity (`float('-inf')`).\n",
    "\n",
    "3.It iterates over each number (`num`) in the list.\n",
    "\n",
    "4.For each number, it compares it with the current `largest` number. If the number is greater than `largest`, it updates both `largest` and `second_largest` accordingly. If the number is not the largest but greater than the current `second_largest` and not equal to the largest number, it updates `second_largest` to that number.\n",
    "\n",
    "5.After iterating through all numbers, it checks if the `second_largest` variable is still negative infinity. If it is, it means there is no second largest number in the list, so it returns `None`. Otherwise, it returns the `second_largest` number.\n",
    "\n",
    "This program with any list of numbers to find the second largest number in that list. The program will output the second largest number, if it exists, or a message indicating that there is no second largest number.\n"
   ]
  },
  {
   "cell_type": "markdown",
   "id": "1480673d-a4bf-46cf-a6d7-1092eb47adcb",
   "metadata": {},
   "source": [
    "Q6"
   ]
  },
  {
   "cell_type": "code",
   "execution_count": 16,
   "id": "1d98cfb2-f0f1-4af0-b5e6-0ddbbeca8438",
   "metadata": {},
   "outputs": [
    {
     "name": "stdout",
     "output_type": "stream",
     "text": [
      "List with duplicates removed: [10, 20, 30, 40]\n"
     ]
    }
   ],
   "source": [
    "def remove_duplicates(lst):\n",
    "    unique_elements = []\n",
    "    seen = set()\n",
    "\n",
    "    for element in lst:\n",
    "        if element not in seen:\n",
    "            unique_elements.append(element)\n",
    "            seen.add(element)\n",
    "\n",
    "    return unique_elements\n",
    "\n",
    "# Example usage\n",
    "input_list = [10, 20, 30, 10, 40, 20, 10]\n",
    "unique_elements = remove_duplicates(input_list)\n",
    "print(\"List with duplicates removed:\", unique_elements)\n"
   ]
  },
  {
   "cell_type": "markdown",
   "id": "88961bb5-a95b-4b23-80db-e5264a457d0a",
   "metadata": {},
   "source": [
    "In this program, the remove_duplicates function takes a list (lst) as input and performs the following steps:\n",
    "\n",
    "1.It initializes an empty list `unique_elements` to store the unique elements.\n",
    "\n",
    "2.It creates an empty set `seen` to keep track of elements that have been seen before.\n",
    "\n",
    "3.It iteretas over each element in the list.\n",
    "\n",
    "4.For each element, it checks if it is already in the `seen` set. If it is not, it appends the element to the `unique_elements` list and adds it to the `seen` set.\n",
    "\n",
    "5.After iterating through all elements, it returns the `unique_elements` list.\n",
    "\n",
    "\n",
    "This program with any list of elements to remove duplicates while preserving the original order. The program will output the modified list with duplicate elements removed."
   ]
  },
  {
   "cell_type": "markdown",
   "id": "4c0a44db-124f-4d90-adb5-3e1c60f28e38",
   "metadata": {},
   "source": [
    "Q7"
   ]
  },
  {
   "cell_type": "code",
   "execution_count": 21,
   "id": "7c26da0d-8c8c-4a55-9fa7-d0540ff3f136",
   "metadata": {},
   "outputs": [
    {
     "name": "stdin",
     "output_type": "stream",
     "text": [
      "Enter a number:  1750\n"
     ]
    },
    {
     "name": "stdout",
     "output_type": "stream",
     "text": [
      "Factorial of 1750 is: 2098318982648383492488229567631006935617906833429973322027969804254426908471378878230862644468633667173530311693393956399371863084102463804178903816048720911927848492033124566840273434962925584317104226855393357493773840019918180564340318408613520616604149920404604783373612251936702458853235283747473994662058952562993293364474088577523525985086260680614106558310228338711905087882397363447872721834019451644378385566459858885250204348211353415586698386677162625607496176629671579431079530140351567405853118590284221500172380104285719567291976510565121752303223288343569620156803019949206339205660236487953537427340126003031886414549441714765383033972212272672521709901543830574200979670772206643467692753546145129037083155046431764688421204729880623324507513524703677127196529632740961081994321367432088997205118485068209801701349099549414173202459143300783669451401319979945475416843232671609887693251313637498086501224227338486424426788814558907224415953672255237752272449937998161876911240981880850005013999452803345277523382028781496628553640800713404290600490144195796337943362899411454752352375229844891310698267757967340396255791735688364508286596149059218889729816742056441131958176703472847978908988395573970598374993118140506674176272401031837199025212608070695811105453845002386696982874530344076612289697083048111229815516034765159821746789059686081777298276431004158193895588196022286092957998813984951886616651947364774190355467043532383648102136552798610075918556046988293519160431048511300447436439964946187269204308888152816967124529518466430614821267416630963181713900796093198673943508621669323340185300078033585822789490165453265482484583674491232576476214645092688618776056187078760812106709032338529117056190967947532675453005597085215894826487490679828904153376507418555665638083335066558720915059736736636553737151347208300513593235762770287766344490314147394278128622536599240671966121658480448837247161483285146467936011602670175306067262696218883924944387651948709190631409240510459155697781859165119840213479240032787889902665256627321960649406935259840470796804508272935534888836253926309979515647014228165035121828906685227658051416953499249709493945725781433736878748438298999940067292175446973571891787863355614909646519593609157016226790323318747125587240376370357564069071842191768232255841222493401799097408366227629334947855805068605047691597491900979014496552979604042734832614702461693490412518269789129057749501141210686459384549085477212931134441374109858615366445032219161930917422461692195045815787170887051437943383782070230381632067382219593835399660475811577899982420262725117219324173403946464659846951940689102421379186829234359455506487455322868313655706089184927148408869863398547058081016163774507739661315456511027437234091276366914183939835361840917379917019366481621978027970201004170535250537004640597143067971474688903754432465654874127714719310094386638814330514650765175721211498828279307607265387676593751098243602617059465193720422263623847870372956958924588475020658216425924282541850269228065069934972287170556142177239652077743284434493346014291340886456075161846324558462268538509411473774505225521109721362905987165991870917002611047705118055797709821937715361603550449429504782641342432118327232233598798063072759053761922697159604318795801609054818446930522212469696649657505542412837448846553554467967320670671747785034419928464026269705313303019312372507194986203063902917657234515481043286964365044522743818721027277767650264570356811488954523852118162492592954562503424820458255934780549326955933996073704387284973120916458444207259239428994331962344113130495768281033017843166927275484697144462192478835714562042640821096994976148438286110050532806281335177076665585296408220522314465460264523999921926220598509390171288254532237003806427000675203599195058499739767882113564062520238393880086433516167438695887882439677731409654543732889536846762057745410119220854395146426160131917874502345707407232552293450092629453182905845199373098136494378381607897916156699466968647898122776354190392964992183340283144108656824869328678929110352793645925039063489076968639396016175550900866327522138287179404497922594107183714177079505131644675622284101876967548350877280580009185355107865140049313497019992983508522644472446857205417434059393011479766656716398021766822217517702991563347329465514754020257029347285583140063683928372607767249653081350122222256295882348570161949285200603296378083700052240101537407303680000000000000000000000000000000000000000000000000000000000000000000000000000000000000000000000000000000000000000000000000000000000000000000000000000000000000000000000000000000000000000000000000000000000000000000000000000000000000000000000000000000000000000000000000000000000000000000000000000000000000000000000000000000000000000000000000000000000000000000000000000000000000000000000000000000000000000000000000000000000000000000000000000\n"
     ]
    }
   ],
   "source": [
    "def factorial(n):\n",
    "    if n < 0:\n",
    "        return None  # Return None for negative numbers\n",
    "\n",
    "    if n == 0 or n == 1:\n",
    "        return 1  # Return 1 for 0 and 1\n",
    "\n",
    "    result = 1\n",
    "\n",
    "    for i in range(2, n + 1):\n",
    "        result *= i\n",
    "\n",
    "    return result\n",
    "\n",
    "# Example usage\n",
    "num = int(input(\"Enter a number: \"))\n",
    "factorial_result = factorial(num)\n",
    "\n",
    "if factorial_result is None:\n",
    "    print(\"Factorial is not defined for negative numbers.\")\n",
    "else:\n",
    "    print(\"Factorial of\", num, \"is:\", factorial_result)\n"
   ]
  },
  {
   "cell_type": "markdown",
   "id": "de86cbdc-98e9-4fb0-906f-2b55b3ac3a8f",
   "metadata": {},
   "source": [
    "In this program, the `factoria`l function takes a number (`n`) as input and performs the following steps:\n",
    "\n",
    "1.It first checks if the number is negative. If it is, it returns `None` to indicate that the factorial is not defined for negative numbers.\n",
    "\n",
    "2.Next, it handles the cases where the number is 0 or 1 and returns 1, as the factorial of 0 and 1 is defined as 1.\n",
    "\n",
    "3.For numbers greater than 1, it initializes a variable `result` to 1.\n",
    "\n",
    "4.It then iterates from 2 to `n` (inclusive) and multiplies each number with the `result`.\n",
    "\n",
    "5.After the loop, it returns the final `result`, which represents the factorial of the given number.\n",
    "\n",
    "\n",
    "This program and enter a number to calculate its factorial. The program will output the factorial value if the input is valid. If the input is a negative number, it will display a message indicating that the factorial is not defined for negative numbers.\n"
   ]
  },
  {
   "cell_type": "markdown",
   "id": "abc473ab-a59f-453e-9bee-c42e077bd72b",
   "metadata": {},
   "source": [
    "Q8"
   ]
  },
  {
   "cell_type": "code",
   "execution_count": 31,
   "id": "f6bb62a1-6dd6-4946-8bb1-6af9568e3c0b",
   "metadata": {},
   "outputs": [
    {
     "name": "stdin",
     "output_type": "stream",
     "text": [
      "Enter a number:  2\n"
     ]
    },
    {
     "name": "stdout",
     "output_type": "stream",
     "text": [
      "2 is a prime number.\n"
     ]
    }
   ],
   "source": [
    "def is_prime(number):\n",
    "    if number < 2:\n",
    "        return False  # Numbers less than 2 are not prime\n",
    "\n",
    "    for i in range(2, int(number ** 0.5) + 1):\n",
    "        if number % i == 0:\n",
    "            return False  # Found a factor, number is not prime\n",
    "\n",
    "    return True  # Number is prime\n",
    "\n",
    "# Example usage\n",
    "num = int(input(\"Enter a number: \"))\n",
    "if is_prime(num):\n",
    "    print(num, \"is a prime number.\")\n",
    "else:\n",
    "    print(num, \"is not a prime number.\")\n"
   ]
  },
  {
   "cell_type": "markdown",
   "id": "cff62cef-a85d-462a-b7a1-5ef701a7d861",
   "metadata": {},
   "source": [
    "You can run this program and enter a number to check if it is prime. The program will output whether the number is prime or not."
   ]
  },
  {
   "cell_type": "markdown",
   "id": "7ce87998-11a3-4db7-a5b2-0b97ceedfe3f",
   "metadata": {},
   "source": [
    "Q9"
   ]
  },
  {
   "cell_type": "code",
   "execution_count": 33,
   "id": "a9a9bb21-92e1-4c1e-89a0-5d84be90fe86",
   "metadata": {},
   "outputs": [
    {
     "name": "stdout",
     "output_type": "stream",
     "text": [
      "Sorted list: [1, 2, 3, 5, 7, 8, 10]\n"
     ]
    }
   ],
   "source": [
    "def sort_list_ascending(lst):\n",
    "    lst.sort()\n",
    "    return lst\n",
    "\n",
    "# Example usage\n",
    "input_list = [10, 5, 8, 3, 2, 1, 7]\n",
    "sorted_list = sort_list_ascending(input_list)\n",
    "print(\"Sorted list:\", sorted_list)\n"
   ]
  },
  {
   "cell_type": "markdown",
   "id": "874eede5-f010-4d67-a46f-1e83f4d239b1",
   "metadata": {},
   "source": [
    "In this program, the `sort_list_ascending` function takes a list (`lst`) as input and performs the following steps:\n",
    "\n",
    "1.It uses the `sort()` method of the list to sort the elements in ascending order.\n",
    "\n",
    "2.It returns the sorted list.\n",
    "\n",
    "This program with any list of integers to sort them in ascending order. The program will output the sorted list."
   ]
  },
  {
   "cell_type": "markdown",
   "id": "ea8f6c2f-db1d-4e93-b56f-9bf04add0873",
   "metadata": {},
   "source": [
    "Q10"
   ]
  },
  {
   "cell_type": "code",
   "execution_count": 34,
   "id": "860fb486-348a-4438-97f8-78394a2bd02d",
   "metadata": {},
   "outputs": [
    {
     "name": "stdout",
     "output_type": "stream",
     "text": [
      "Sum of numbers: 36\n"
     ]
    }
   ],
   "source": [
    "def calculate_sum(lst):\n",
    "    total_sum = 0\n",
    "\n",
    "    for num in lst:\n",
    "        total_sum += num\n",
    "\n",
    "    return total_sum\n",
    "\n",
    "# Example usage\n",
    "input_list = [10, 5, 8, 3, 2, 1, 7]\n",
    "sum_of_numbers = calculate_sum(input_list)\n",
    "print(\"Sum of numbers:\", sum_of_numbers)\n"
   ]
  },
  {
   "cell_type": "markdown",
   "id": "ceefe222-986c-4b3b-a456-9de4fe2ee6d7",
   "metadata": {},
   "source": [
    "In this program, the `calculate_sum` function takes a list (`lst`) as input and performs the following steps:\n",
    "\n",
    "1.It initializes a variable `total_sum` to 0.\n",
    "\n",
    "2.It iterates over each number (`num`) in the list.\n",
    "\n",
    "3.For each number, it adds it to the `total_sum` variable.\n",
    "\n",
    "4.After iterating through all numbers, it returns the final `total_sum`.\n",
    "\n",
    "This program with any list of numbers to calculate their sum. The program will output the sum of the numbers."
   ]
  },
  {
   "cell_type": "markdown",
   "id": "57813b46-99db-4163-969e-4a39287e9ca8",
   "metadata": {},
   "source": [
    "Q11"
   ]
  },
  {
   "cell_type": "code",
   "execution_count": 35,
   "id": "bbaa4ba2-c223-48ce-8a2f-c5a1ccdff3be",
   "metadata": {},
   "outputs": [
    {
     "name": "stdout",
     "output_type": "stream",
     "text": [
      "Common elements: [4, 5]\n"
     ]
    }
   ],
   "source": [
    "def find_common_elements(list1, list2):\n",
    "    common_elements = []\n",
    "\n",
    "    for element in list1:\n",
    "        if element in list2:\n",
    "            common_elements.append(element)\n",
    "\n",
    "    return common_elements\n",
    "\n",
    "# Example usage\n",
    "list1 = [1, 2, 3, 4, 5]\n",
    "list2 = [4, 5, 6, 7, 8]\n",
    "common_elements = find_common_elements(list1, list2)\n",
    "print(\"Common elements:\", common_elements)\n"
   ]
  },
  {
   "cell_type": "markdown",
   "id": "7957280f-3c34-47a8-9a95-8e29ffbe8eea",
   "metadata": {},
   "source": [
    "This program with any two lists to find their common elements. The program will output the common elements between the two lists."
   ]
  },
  {
   "cell_type": "markdown",
   "id": "c256b9fd-e2ca-4f19-8684-8f19ecbf022f",
   "metadata": {},
   "source": [
    "Q12"
   ]
  },
  {
   "cell_type": "code",
   "execution_count": 37,
   "id": "a131fb3a-07ee-4f8b-8472-30c617298223",
   "metadata": {},
   "outputs": [
    {
     "name": "stdout",
     "output_type": "stream",
     "text": [
      "The strings are anagrams.\n"
     ]
    }
   ],
   "source": [
    "def is_anagram(string1, string2):\n",
    "    # Remove spaces and convert to lowercase\n",
    "    string1 = string1.replace(\" \", \"\").lower()\n",
    "    string2 = string2.replace(\" \", \"\").lower()\n",
    "\n",
    "    # Check if the lengths of the strings are equal\n",
    "    if len(string1) != len(string2):\n",
    "        return False\n",
    "\n",
    "    # Sort the characters in both strings\n",
    "    sorted_string1 = sorted(string1)\n",
    "    sorted_string2 = sorted(string2)\n",
    "\n",
    "    # Compare the sorted strings\n",
    "    return sorted_string1 == sorted_string2\n",
    "\n",
    "# Example usage\n",
    "string1 = \"listen\"\n",
    "string2 = \"silent\"\n",
    "if is_anagram(string1, string2):\n",
    "    print(\"The strings are anagrams.\")\n",
    "else:\n",
    "    print(\"The strings are not anagrams.\")\n"
   ]
  },
  {
   "cell_type": "markdown",
   "id": "38e46b03-11f7-4ed9-a84d-8ae998ca6008",
   "metadata": {},
   "source": [
    "In this program, the `is_anagram` function takes two strings (`string1 and string2`) as input and performs the following steps:\n",
    "\n",
    "1.It removes spaces and converts both strings to lowercase using the `replace` method and `lower` method.\n",
    "\n",
    "2.It checks if the lengths of the two strings are equal. If they are not equal, it returns `False` because anagrams must have the same length.\n",
    "\n",
    "3.It sorts the characters in both strings using the `sorted` function.\n",
    "\n",
    "4.It compares the sorted strings and returns `True` if they are equal, indicating that the strings are anagrams. Otherwise, it returns `False`.\n",
    "\n",
    "This program with any two strings to check if they are anagrams of each other. The program will output whether the strings are anagrams or not."
   ]
  },
  {
   "cell_type": "markdown",
   "id": "0ec0ffbb-778f-43f8-92e6-e1f24adaeb4b",
   "metadata": {},
   "source": [
    "Q13"
   ]
  },
  {
   "cell_type": "code",
   "execution_count": 39,
   "id": "81ad4434-1574-4ee0-80b8-d29130488653",
   "metadata": {},
   "outputs": [
    {
     "name": "stdin",
     "output_type": "stream",
     "text": [
      "Enter a string:  739\n"
     ]
    },
    {
     "name": "stdout",
     "output_type": "stream",
     "text": [
      "Permutations:\n",
      "739\n",
      "379\n",
      "397\n",
      "793\n",
      "973\n",
      "937\n"
     ]
    }
   ],
   "source": [
    "def generate_permutations(input_string):\n",
    "    # Base case: if the string has only one character, return it as a single-item list\n",
    "    if len(input_string) == 1:\n",
    "        return [input_string]\n",
    "\n",
    "    # Recursive step: generate permutations by inserting the first character in different positions\n",
    "    first_char = input_string[0]\n",
    "    remaining_chars = input_string[1:]\n",
    "    permutations = []\n",
    "\n",
    "    # Generate permutations of the remaining characters\n",
    "    for permutation in generate_permutations(remaining_chars):\n",
    "        # Insert the first character at every possible position\n",
    "        for i in range(len(permutation) + 1):\n",
    "            new_permutation = permutation[:i] + first_char + permutation[i:]\n",
    "            permutations.append(new_permutation)\n",
    "\n",
    "    return permutations\n",
    "\n",
    "# Example usage\n",
    "string_to_permute = input(\"Enter a string: \")\n",
    "permutations = generate_permutations(string_to_permute)\n",
    "print(\"Permutations:\")\n",
    "for permutation in permutations:\n",
    "    print(permutation)\n"
   ]
  },
  {
   "cell_type": "markdown",
   "id": "d94d5a11-2c1f-4bb8-af3a-8d6096f72b8f",
   "metadata": {},
   "source": [
    "In this program, the `generate_permutations` function takes a string (`input_string`) as input and performs the following steps:\n",
    "\n",
    "1.If the length of the input string is 1, it returns a single-item list containing the input string itself (base case of the recursion).\n",
    "\n",
    "2.Otherwise, it takes the first character of the input string (`first_char`) and the remaining characters (`remaining_chars`).\n",
    "\n",
    "3.It recursively generates permutations of the remaining characters.\n",
    "\n",
    "4.For each permutation of the remaining characters, it inserts the `first_char` at every possible position to create new permutations.\n",
    "\n",
    "5.It appends the new permutations to the `permutations` list.\n",
    "\n",
    "6.Finally, it returns the list of all permutations.\n",
    "\n",
    "Now you can run this program and enter a string to generate all permutations of that string. The program will output all the generated permutations. Note that the number of permutations can be large for longer input strings."
   ]
  },
  {
   "cell_type": "markdown",
   "id": "88d8254d-ea65-4ce2-8674-560468f7b31c",
   "metadata": {},
   "source": [
    "Q14"
   ]
  },
  {
   "cell_type": "code",
   "execution_count": 40,
   "id": "8dab6b3d-b28b-4c32-90f3-53b0ba1dc6b5",
   "metadata": {},
   "outputs": [
    {
     "name": "stdin",
     "output_type": "stream",
     "text": [
      "Enter the number of terms:  12\n"
     ]
    },
    {
     "name": "stdout",
     "output_type": "stream",
     "text": [
      "Fibonacci sequence:\n",
      "[0, 1, 1, 2, 3, 5, 8, 13, 21, 34, 55, 89]\n"
     ]
    }
   ],
   "source": [
    "def fibonacci_sequence(n):\n",
    "    sequence = []\n",
    "\n",
    "    if n >= 1:\n",
    "        sequence.append(0)\n",
    "    if n >= 2:\n",
    "        sequence.append(1)\n",
    "\n",
    "    for i in range(2, n):\n",
    "        next_number = sequence[i - 1] + sequence[i - 2]\n",
    "        sequence.append(next_number)\n",
    "\n",
    "    return sequence\n",
    "\n",
    "# Example usage\n",
    "num_terms = int(input(\"Enter the number of terms: \"))\n",
    "fib_sequence = fibonacci_sequence(num_terms)\n",
    "print(\"Fibonacci sequence:\")\n",
    "print(fib_sequence)\n"
   ]
  },
  {
   "cell_type": "markdown",
   "id": "33791cb9-5778-4389-8f6d-a429d21aceb5",
   "metadata": {},
   "source": [
    "In this program, the `fibonacci_sequence` function takes an integer (`n`) as input and performs the following steps:\n",
    "\n",
    "1.It initializes an empty list `sequence` to store the Fibonacci sequence.\n",
    "\n",
    "2.If `n` is greater than or equal to 1, it appends the first term (`0`) to the `sequence`.\n",
    "\n",
    "3.If `n` is greater than or equal to 2, it appends the second term (`1`) to the `sequence`.\n",
    "\n",
    "4.It then iterates from the third term up to the `n`-th term.\n",
    "\n",
    "5.For each term, it calculates the next number by adding the two preceding numbers and appends it to the `sequence`.\n",
    "\n",
    "6.Finally, it returns the `sequence` containing the Fibonacci numbers.\n",
    "\n",
    "Now you can run this program and enter the desired number of terms to calculate the Fibonacci sequence. The program will output the Fibonacci sequence up to the specified number of terms."
   ]
  },
  {
   "cell_type": "markdown",
   "id": "4f071a0c-de6b-4bba-b0a2-2760fe93145c",
   "metadata": {},
   "source": [
    "Q15  Write a program to find the median of a list of numbers."
   ]
  },
  {
   "cell_type": "code",
   "execution_count": 41,
   "id": "3f49f1c0-afd8-47dd-952c-3e56b4f345ef",
   "metadata": {},
   "outputs": [
    {
     "name": "stdout",
     "output_type": "stream",
     "text": [
      "Median: 5.5\n"
     ]
    }
   ],
   "source": [
    "def find_median(numbers):\n",
    "    sorted_numbers = sorted(numbers)\n",
    "    length = len(sorted_numbers)\n",
    "\n",
    "    if length % 2 == 1:\n",
    "        # If the length is odd, return the middle element\n",
    "        median = sorted_numbers[length // 2]\n",
    "    else:\n",
    "        # If the length is even, return the average of the two middle elements\n",
    "        mid_right = length // 2\n",
    "        mid_left = mid_right - 1\n",
    "        median = (sorted_numbers[mid_left] + sorted_numbers[mid_right]) / 2\n",
    "\n",
    "    return median\n",
    "\n",
    "# Example usage\n",
    "number_list = [5, 2, 9, 1, 7, 6]\n",
    "median = find_median(number_list)\n",
    "print(\"Median:\", median)\n"
   ]
  },
  {
   "cell_type": "markdown",
   "id": "12225364-0fd5-4638-89ff-e9b360ae2043",
   "metadata": {},
   "source": [
    "This program with any list of numbers to find the median. The program will output the median value."
   ]
  },
  {
   "cell_type": "markdown",
   "id": "5c9fa0c3-3e8a-4764-972c-7fc6e30862f6",
   "metadata": {},
   "source": [
    "Q16. Implement a function to check if a given list is sorted in non-decreasing order.\n"
   ]
  },
  {
   "cell_type": "code",
   "execution_count": 42,
   "id": "78ae683f-8b2c-4e62-90fe-12c72f8f968f",
   "metadata": {},
   "outputs": [
    {
     "name": "stdout",
     "output_type": "stream",
     "text": [
      "The list is sorted in non-decreasing order.\n"
     ]
    }
   ],
   "source": [
    "def is_sorted(lst):\n",
    "    for i in range(len(lst) - 1):\n",
    "        if lst[i] > lst[i + 1]:\n",
    "            return False\n",
    "    return True\n",
    "\n",
    "# Example usage\n",
    "input_list = [1, 3, 5, 7, 9]\n",
    "if is_sorted(input_list):\n",
    "    print(\"The list is sorted in non-decreasing order.\")\n",
    "else:\n",
    "    print(\"The list is not sorted in non-decreasing order.\")\n"
   ]
  },
  {
   "cell_type": "markdown",
   "id": "091ac3e4-afdb-4d0c-b592-5c39f2237c49",
   "metadata": {},
   "source": [
    "In this program, the `is_sorted` function takes a list (`lst`) as input and performs the following steps:\n",
    "\n",
    "1.It iterates through the list from the first element to the second-to-last element using the `range` function and the length of the list minus 1.\n",
    "2.For each pair of adjacent elements, it compares them. If any element is greater than the next element, it means the list is not sorted in non-decreasing order, so it returns `False`.\n",
    "3.If the loop completes without finding any elements out of order, it means the list is sorted in non-decreasing order, so it returns `True`.\n",
    "\n",
    "\n",
    "This program with any list of elements to check if it is sorted in non-decreasing order. The program will output whether the list is sorted or not."
   ]
  },
  {
   "cell_type": "markdown",
   "id": "4f753a59-ec9b-4229-ae81-4c5f4cc654da",
   "metadata": {},
   "source": [
    "Q17. Write a Python program to find the intersection of two lists.\n"
   ]
  },
  {
   "cell_type": "code",
   "execution_count": 43,
   "id": "b2084791-b944-4aa6-b5f1-ccb098b991be",
   "metadata": {},
   "outputs": [
    {
     "name": "stdout",
     "output_type": "stream",
     "text": [
      "Intersection: [4, 5]\n"
     ]
    }
   ],
   "source": [
    "def find_intersection(list1, list2):\n",
    "    intersection = []\n",
    "\n",
    "    for element in list1:\n",
    "        if element in list2 and element not in intersection:\n",
    "            intersection.append(element)\n",
    "\n",
    "    return intersection\n",
    "\n",
    "# Example usage\n",
    "list1 = [1, 2, 3, 4, 5]\n",
    "list2 = [4, 5, 6, 7, 8]\n",
    "intersection = find_intersection(list1, list2)\n",
    "print(\"Intersection:\", intersection)\n"
   ]
  },
  {
   "cell_type": "markdown",
   "id": "1aba473f-9ccd-4c5f-a106-f0f9b5b13e5c",
   "metadata": {},
   "source": [
    "In this program, the `find_intersection` function takes two lists (`list1 and list2`) as input and performs the following steps:\n",
    "\n",
    "1.It initializes an empty list `intersection` to store the common elements.\n",
    "\n",
    "2.It iterates over each element in `list1`.\n",
    "\n",
    "3.For each element, it checks if it is also present in `list2` and not already in the `intersection` list. If it satisfies both conditions, it appends the element to the `intersection` list.\n",
    "\n",
    "4.After iterating through all elements in `list1`, it returns the `intersection` list.\n",
    "\n",
    "\n",
    "This program with any two lists to find their intersection, which is the common elements between the two lists. The program will output the intersection list."
   ]
  },
  {
   "cell_type": "markdown",
   "id": "0a89c479-6540-40f5-9e71-e826106d5106",
   "metadata": {},
   "source": [
    "Q18. Implement a function to find the maximum subarray sum in a given list."
   ]
  },
  {
   "cell_type": "code",
   "execution_count": 44,
   "id": "9bc76791-d3a3-442e-8e37-26f18f6ac031",
   "metadata": {},
   "outputs": [
    {
     "name": "stdout",
     "output_type": "stream",
     "text": [
      "Maximum subarray sum: 6\n"
     ]
    }
   ],
   "source": [
    "def find_maximum_subarray_sum(lst):\n",
    "    if not lst:\n",
    "        return None  # Return None for an empty list\n",
    "\n",
    "    max_sum = lst[0]  # Initialize the maximum sum as the first element\n",
    "    current_sum = lst[0]  # Initialize the current sum as the first element\n",
    "\n",
    "    for i in range(1, len(lst)):\n",
    "        current_sum = max(lst[i], current_sum + lst[i])\n",
    "        max_sum = max(max_sum, current_sum)\n",
    "\n",
    "    return max_sum\n",
    "\n",
    "# Example usage\n",
    "input_list = [-2, 1, -3, 4, -1, 2, 1, -5, 4]\n",
    "max_subarray_sum = find_maximum_subarray_sum(input_list)\n",
    "print(\"Maximum subarray sum:\", max_subarray_sum)\n"
   ]
  },
  {
   "cell_type": "markdown",
   "id": "49149f76-da1b-4da4-b52f-a69174256d74",
   "metadata": {},
   "source": [
    "In this program, the `find_maximum_subarray_sum` function takes a list (`lst`) as input and performs the following steps using Kadane's algorithm:\n",
    "\n",
    "1.It checks if the list is empty. If it is, it returns `None` to indicate that the maximum subarray sum is not defined for an empty list.\n",
    "\n",
    "2.It initializes two variables: `max_sum` and `current_sum` as the first element of the list.\n",
    "\n",
    "3.It iterates from the second element to the last element of the list.\n",
    "\n",
    "4.For each element, it calculates the maximum between the current element itself (`lst[i]`) and the sum of the current element and the previous subarray sum (`current_sum + lst[i]`).\n",
    "\n",
    "5.It updates `current_sum` with the maximum of the two values calculated in the previous step.\n",
    "\n",
    "6.It updates `max_sum` with the maximum of the current `max_sum` and the updated `current_sum`.\n",
    "\n",
    "7.After iterating through all elements, it returns the final `max_sum`, which represents the maximum subarray sum.\n",
    "\n",
    "\n",
    "This program with any list of numbers to find the maximum subarray sum. The program will output the maximum subarray sum."
   ]
  },
  {
   "cell_type": "markdown",
   "id": "fa134234-baf7-40e4-9acf-8680821d016e",
   "metadata": {},
   "source": [
    "Q19. Write a program to remove all vowels from a given string."
   ]
  },
  {
   "cell_type": "code",
   "execution_count": 46,
   "id": "9c524992-5a06-4962-9ef8-e0c1f63efd27",
   "metadata": {},
   "outputs": [
    {
     "name": "stdin",
     "output_type": "stream",
     "text": [
      "Enter a string:  Sushovan\n"
     ]
    },
    {
     "name": "stdout",
     "output_type": "stream",
     "text": [
      "String after removing vowels: Sshvn\n"
     ]
    }
   ],
   "source": [
    "def remove_vowels(input_string):\n",
    "    vowels = 'aeiouAEIOU'\n",
    "    result = ''\n",
    "\n",
    "    for char in input_string:\n",
    "        if char not in vowels:\n",
    "            result += char\n",
    "\n",
    "    return result\n",
    "\n",
    "# Example usage\n",
    "string_to_process = input(\"Enter a string: \")\n",
    "processed_string = remove_vowels(string_to_process)\n",
    "print(\"String after removing vowels:\", processed_string)\n"
   ]
  },
  {
   "cell_type": "markdown",
   "id": "bdbb41b9-a017-458a-8579-51044b6affc7",
   "metadata": {},
   "source": [
    "In this program, the `remove_vowels` function takes a string (`input_string`) as input and performs the following steps:\n",
    "\n",
    "1.It initializes a string `vowels` containing all the vowels (both lowercase and uppercase).\n",
    "\n",
    "2.It initializes an empty string `result` to store the processed string.\n",
    "\n",
    "3.It iterates over each character (`char`) in the input string.\n",
    "\n",
    "4.For each character, it checks if it is not a vowel by using the `not in` operator with the `vowels` string.\n",
    "\n",
    "5.If the character is not a vowel, it appends it to the `result` string.\n",
    "\n",
    "6.After iterating through all characters, it returns the final `result` string, which is the input string with all vowels removed.\n",
    "\n",
    "This program and enter a string to remove all the vowels from it. The program will output the processed string without any vowels.\n",
    "\n",
    "\n",
    "\n",
    "\n"
   ]
  },
  {
   "cell_type": "markdown",
   "id": "0465c6fc-92eb-40a0-badc-32173ba6f640",
   "metadata": {},
   "source": [
    "Q20. Implement a function to reverse the order of words in a given sentence."
   ]
  },
  {
   "cell_type": "code",
   "execution_count": 50,
   "id": "8c3733de-9560-4ac8-8dc3-8f5124dd8c52",
   "metadata": {},
   "outputs": [
    {
     "name": "stdin",
     "output_type": "stream",
     "text": [
      "Enter a sentence:   it returns the reversed sentence\n"
     ]
    },
    {
     "name": "stdout",
     "output_type": "stream",
     "text": [
      "Reversed sentence: sentence reversed the returns it\n"
     ]
    }
   ],
   "source": [
    "def reverse_sentence(sentence):\n",
    "    # Split the sentence into words\n",
    "    words = sentence.split()\n",
    "\n",
    "    # Reverse the order of words\n",
    "    reversed_words = words[::-1]\n",
    "\n",
    "    # Join the reversed words back into a sentence\n",
    "    reversed_sentence = ' '.join(reversed_words)\n",
    "\n",
    "    return reversed_sentence\n",
    "\n",
    "# Example usage\n",
    "input_sentence = input(\"Enter a sentence: \")\n",
    "reversed_sentence = reverse_sentence(input_sentence)\n",
    "print(\"Reversed sentence:\", reversed_sentence)\n"
   ]
  },
  {
   "cell_type": "markdown",
   "id": "a0fa28b2-754c-465c-846d-6cfb6fb296a4",
   "metadata": {},
   "source": [
    "In this program, the `reverse_sentence` function takes a sentence (`sentence`) as input and performs the following steps:\n",
    "\n",
    "\n",
    "1.It splits the sentence into individual words using the `split()` method, which splits the sentence on whitespace by default. This results in a list of words.\n",
    "\n",
    "2.It reverses the order of words in the list using the slicing technique `[::-1]`.\n",
    "\n",
    "3.It joins the reversed words back into a sentence using the `join()` method with a space as the separator.\n",
    "\n",
    "4.Finally, it returns the reversed sentence.\n",
    "\n",
    "This program and enter a sentence to reverse the order of words in it. The program will output the reversed sentence."
   ]
  },
  {
   "cell_type": "markdown",
   "id": "fae14192-4aa3-4683-a191-533c3742f703",
   "metadata": {},
   "source": [
    "Q21. Write a Python program to check if two strings are anagrams of each other."
   ]
  },
  {
   "cell_type": "code",
   "execution_count": 59,
   "id": "656418ec-4c39-4c93-ac8c-39ac09663d50",
   "metadata": {},
   "outputs": [
    {
     "name": "stdin",
     "output_type": "stream",
     "text": [
      "Enter the first string:  listen\n",
      "Enter the second string:  silent\n"
     ]
    },
    {
     "name": "stdout",
     "output_type": "stream",
     "text": [
      "The strings are anagrams.\n"
     ]
    }
   ],
   "source": [
    "def is_anagram(string1, string2):\n",
    "    # Remove spaces and convert to lowercase\n",
    "    string1 = string1.replace(\" \", \"\").lower()\n",
    "    string2 = string2.replace(\" \", \"\").lower()\n",
    "\n",
    "    # Check if the lengths of the strings are equal\n",
    "    if len(string1) != len(string2):\n",
    "        return False\n",
    "\n",
    "    # Sort the characters in both strings\n",
    "    sorted_string1 = sorted(string1)\n",
    "    sorted_string2 = sorted(string2)\n",
    "\n",
    "    # Compare the sorted strings\n",
    "    return sorted_string1 == sorted_string2\n",
    "\n",
    "# Example usage\n",
    "string1 = input(\"Enter the first string: \")\n",
    "string2 = input(\"Enter the second string: \")\n",
    "\n",
    "if is_anagram(string1, string2):\n",
    "    print(\"The strings are anagrams.\")\n",
    "else:\n",
    "    print(\"The strings are not anagrams.\")\n"
   ]
  },
  {
   "cell_type": "markdown",
   "id": "4d6d1ee0-f8b1-4935-86c1-1b4648e81184",
   "metadata": {},
   "source": [
    "Q22. Implement a function to find the first non-repeating character in a string."
   ]
  },
  {
   "cell_type": "code",
   "execution_count": 6,
   "id": "5527b69f-8432-4c80-a0b9-0e42ab693ad6",
   "metadata": {},
   "outputs": [
    {
     "name": "stdin",
     "output_type": "stream",
     "text": [
      "Enter a string:  653\n"
     ]
    },
    {
     "name": "stdout",
     "output_type": "stream",
     "text": [
      "First non-repeating character: 6\n"
     ]
    }
   ],
   "source": [
    "def find_first_non_repeating_char(input_string):\n",
    "    char_count = {}\n",
    "\n",
    "    # Count the occurrence of each character in the string\n",
    "    for char in input_string:\n",
    "        char_count[char] = char_count.get(char, 0) + 1\n",
    "\n",
    "    # Find the first character with a count of 1\n",
    "    for char in input_string:\n",
    "        if char_count[char] == 1:\n",
    "            return char\n",
    "\n",
    "    # If no non-repeating character is found, return None\n",
    "    return None\n",
    "\n",
    "# Example usage\n",
    "input_str = input(\"Enter a string: \")\n",
    "result = find_first_non_repeating_char(input_str)\n",
    "\n",
    "if result is None:\n",
    "    print(\"There is no non-repeating character in the string.\")\n",
    "else:\n",
    "    print(\"First non-repeating character:\", result)\n"
   ]
  },
  {
   "cell_type": "markdown",
   "id": "7d298e20-4e01-4030-a5ad-af10f16eae6b",
   "metadata": {},
   "source": [
    "Q23. Write a program to find the prime factors of a given number"
   ]
  },
  {
   "cell_type": "code",
   "execution_count": 1,
   "id": "d0efd0c2-8b53-4295-8a9f-c1255baead12",
   "metadata": {},
   "outputs": [
    {
     "name": "stdin",
     "output_type": "stream",
     "text": [
      "Enter a number:  4563\n"
     ]
    },
    {
     "name": "stdout",
     "output_type": "stream",
     "text": [
      "Prime factors of 4563 are: [3, 3, 3, 13, 13]\n"
     ]
    }
   ],
   "source": [
    "def find_prime_factors(number):\n",
    "    prime_factors = []\n",
    "    divisor = 2\n",
    "\n",
    "    while divisor <= number:\n",
    "        if number % divisor == 0:\n",
    "            prime_factors.append(divisor)\n",
    "            number //= divisor\n",
    "        else:\n",
    "            divisor += 1\n",
    "\n",
    "    return prime_factors\n",
    "\n",
    "# Example usage\n",
    "num = int(input(\"Enter a number: \"))\n",
    "factors = find_prime_factors(num)\n",
    "\n",
    "print(\"Prime factors of\", num, \"are:\", factors)\n"
   ]
  },
  {
   "cell_type": "markdown",
   "id": "ae865061-5670-4de8-897e-7d8172d7d0a2",
   "metadata": {},
   "source": [
    "Q24. Implement a function to check if a given number is a power of two.\n"
   ]
  },
  {
   "cell_type": "code",
   "execution_count": 4,
   "id": "770bd9c8-9067-45f4-a595-c7bc4173050a",
   "metadata": {},
   "outputs": [
    {
     "name": "stdin",
     "output_type": "stream",
     "text": [
      "Enter a number:  4\n"
     ]
    },
    {
     "name": "stdout",
     "output_type": "stream",
     "text": [
      "The number is a power of two.\n"
     ]
    }
   ],
   "source": [
    "def is_power_of_two(number):\n",
    "    if number <= 0:\n",
    "        return False\n",
    "\n",
    "    return (number & (number - 1)) == 0\n",
    "\n",
    "# Example usage\n",
    "num = int(input(\"Enter a number: \"))\n",
    "if is_power_of_two(num):\n",
    "    print(\"The number is a power of two.\")\n",
    "else:\n",
    "    print(\"The number is not a power of two.\")\n"
   ]
  },
  {
   "cell_type": "markdown",
   "id": "ebf8530a-f1fc-465e-bff7-dc5d15484b13",
   "metadata": {},
   "source": [
    "Q25. Write a Python program to merge two sorted lists into a single sorted list."
   ]
  },
  {
   "cell_type": "code",
   "execution_count": 7,
   "id": "b0684420-2826-4c71-ba6e-20604f609618",
   "metadata": {},
   "outputs": [
    {
     "name": "stdout",
     "output_type": "stream",
     "text": [
      "Merged list: [1, 2, 3, 4, 5, 6, 7, 8, 9]\n"
     ]
    }
   ],
   "source": [
    "def merge_sorted_lists(list1, list2):\n",
    "    merged_list = []\n",
    "    i = 0  # Index for list1\n",
    "    j = 0  # Index for list2\n",
    "\n",
    "    # Merge the lists until one of them is exhausted\n",
    "    while i < len(list1) and j < len(list2):\n",
    "        if list1[i] < list2[j]:\n",
    "            merged_list.append(list1[i])\n",
    "            i += 1\n",
    "        else:\n",
    "            merged_list.append(list2[j])\n",
    "            j += 1\n",
    "\n",
    "    # Add the remaining elements of list1, if any\n",
    "    while i < len(list1):\n",
    "        merged_list.append(list1[i])\n",
    "        i += 1\n",
    "\n",
    "    # Add the remaining elements of list2, if any\n",
    "    while j < len(list2):\n",
    "        merged_list.append(list2[j])\n",
    "        j += 1\n",
    "\n",
    "    return merged_list\n",
    "\n",
    "# Example usage\n",
    "list1 = [1, 4, 7, 9]\n",
    "list2 = [2, 3, 5, 6, 8]\n",
    "merged_list = merge_sorted_lists(list1, list2)\n",
    "print(\"Merged list:\", merged_list)\n"
   ]
  },
  {
   "cell_type": "markdown",
   "id": "5deb2fdb-b0df-4f69-ba66-07aa15d33591",
   "metadata": {},
   "source": [
    "Q26. Implement a function to find the mode of a list of numbers.\n"
   ]
  },
  {
   "cell_type": "code",
   "execution_count": 8,
   "id": "99045c49-52e5-40aa-b276-77011f530ad1",
   "metadata": {},
   "outputs": [
    {
     "name": "stdout",
     "output_type": "stream",
     "text": [
      "Mode(s): [4]\n"
     ]
    }
   ],
   "source": [
    "from collections import Counter\n",
    "\n",
    "def find_mode(numbers):\n",
    "    # Count the occurrences of each number\n",
    "    counts = Counter(numbers)\n",
    "\n",
    "    # Find the maximum count\n",
    "    max_count = max(counts.values())\n",
    "\n",
    "    # Find all numbers with the maximum count (modes)\n",
    "    modes = [num for num, count in counts.items() if count == max_count]\n",
    "\n",
    "    return modes\n",
    "\n",
    "# Example usage\n",
    "number_list = [1, 2, 2, 3, 3, 3, 4, 4, 4, 4]\n",
    "modes = find_mode(number_list)\n",
    "\n",
    "if modes:\n",
    "    print(\"Mode(s):\", modes)\n",
    "else:\n",
    "    print(\"There is no mode in the list.\")\n"
   ]
  },
  {
   "cell_type": "markdown",
   "id": "12185cea-0b6e-4359-93c0-ee831a42a7d8",
   "metadata": {},
   "source": [
    "Q27. Write a program to find the greatest common divisor (GCD) of two numbers"
   ]
  },
  {
   "cell_type": "code",
   "execution_count": 9,
   "id": "c310e5ee-8500-40e2-9b55-8cba36d7ae6d",
   "metadata": {},
   "outputs": [
    {
     "name": "stdin",
     "output_type": "stream",
     "text": [
      "Enter the first number:  6\n",
      "Enter the second number:  9\n"
     ]
    },
    {
     "name": "stdout",
     "output_type": "stream",
     "text": [
      "GCD: 3\n"
     ]
    }
   ],
   "source": [
    "def find_gcd(a, b):\n",
    "    while b != 0:\n",
    "        a, b = b, a % b\n",
    "    return a\n",
    "\n",
    "# Example usage\n",
    "num1 = int(input(\"Enter the first number: \"))\n",
    "num2 = int(input(\"Enter the second number: \"))\n",
    "gcd = find_gcd(num1, num2)\n",
    "print(\"GCD:\", gcd)"
   ]
  },
  {
   "cell_type": "markdown",
   "id": "d9a99a28-b417-48f2-aedb-1fcb4a8fedf7",
   "metadata": {},
   "source": [
    "You can run this program and enter two numbers to find their greatest common divisor (GCD). The program will output the GCD of the given numbers."
   ]
  },
  {
   "cell_type": "markdown",
   "id": "167344a6-187b-490a-a80b-0202f39c8f6c",
   "metadata": {},
   "source": [
    "Q28. Implement a function to calculate the square root of a given number.\n"
   ]
  },
  {
   "cell_type": "code",
   "execution_count": 10,
   "id": "6060fe1c-4890-4a94-a7c3-8a634a5cdc37",
   "metadata": {},
   "outputs": [
    {
     "name": "stdin",
     "output_type": "stream",
     "text": [
      "Enter a number:  8\n"
     ]
    },
    {
     "name": "stdout",
     "output_type": "stream",
     "text": [
      "Square root: 2.8284313725490193\n"
     ]
    }
   ],
   "source": [
    "def calculate_square_root(number, precision=0.0001):\n",
    "    if number < 0:\n",
    "        raise ValueError(\"Square root is undefined for negative numbers.\")\n",
    "\n",
    "    if number == 0:\n",
    "        return 0\n",
    "\n",
    "    # Initial guess for square root\n",
    "    x = number / 2\n",
    "\n",
    "    # Iterate until desired precision is achieved\n",
    "    while abs(x * x - number) > precision:\n",
    "        x = (x + number / x) / 2\n",
    "\n",
    "    return x\n",
    "\n",
    "# Example usage\n",
    "num = float(input(\"Enter a number: \"))\n",
    "sqrt = calculate_square_root(num)\n",
    "print(\"Square root:\", sqrt)\n"
   ]
  },
  {
   "cell_type": "markdown",
   "id": "da21a8e0-715f-40bc-b9c1-7f9b180cd0b3",
   "metadata": {},
   "source": [
    "You can run this program and enter a number to calculate its square root. The program will output the square root of the given number."
   ]
  },
  {
   "cell_type": "markdown",
   "id": "010886a7-bd76-42bb-a22d-51c19973cccc",
   "metadata": {},
   "source": [
    "Q29. Write a Python program to check if a given string is a valid palindrome ignoring non-alphanumeric characters."
   ]
  },
  {
   "cell_type": "code",
   "execution_count": 16,
   "id": "5a7b1983-c1b3-4e01-919d-4524269e33f6",
   "metadata": {},
   "outputs": [
    {
     "name": "stdin",
     "output_type": "stream",
     "text": [
      "Enter a string:  A man, a plan, a canal - Panama!\n"
     ]
    },
    {
     "name": "stdout",
     "output_type": "stream",
     "text": [
      "The string is a valid palindrome.\n"
     ]
    }
   ],
   "source": [
    "import re\n",
    "\n",
    "def is_valid_palindrome(input_string):\n",
    "    # Remove non-alphanumeric characters and convert to lowercase\n",
    "    cleaned_string = re.sub(r'[^a-zA-Z0-9]', '', input_string.lower())\n",
    "\n",
    "    # Check if the cleaned string is a palindrome\n",
    "    return cleaned_string == cleaned_string[::-1]\n",
    "\n",
    "# Example usage\n",
    "string_to_check = input(\"Enter a string: \")\n",
    "if is_valid_palindrome(string_to_check):\n",
    "    print(\"The string is a valid palindrome.\")\n",
    "else:\n",
    "    print(\"The string is not a valid palindrome.\")\n"
   ]
  },
  {
   "cell_type": "markdown",
   "id": "6f3865c3-05ba-45d6-b91a-8294f4e88de4",
   "metadata": {},
   "source": [
    "Q30. Implement a function to find the minimum element in a rotated sorted list."
   ]
  },
  {
   "cell_type": "code",
   "execution_count": 17,
   "id": "8d471321-90c3-46ad-99f3-c3887cbe580c",
   "metadata": {},
   "outputs": [
    {
     "name": "stdout",
     "output_type": "stream",
     "text": [
      "Minimum element: 0\n"
     ]
    }
   ],
   "source": [
    "def find_minimum_element(rotated_list):\n",
    "    left = 0\n",
    "    right = len(rotated_list) - 1\n",
    "\n",
    "    while left < right:\n",
    "        mid = left + (right - left) // 2\n",
    "\n",
    "        if rotated_list[mid] > rotated_list[right]:\n",
    "            left = mid + 1\n",
    "        else:\n",
    "            right = mid\n",
    "\n",
    "    return rotated_list[left]\n",
    "\n",
    "# Example usage\n",
    "input_list = [4, 5, 6, 7, 0, 1, 2]\n",
    "minimum_element = find_minimum_element(input_list)\n",
    "print(\"Minimum element:\", minimum_element)\n"
   ]
  },
  {
   "cell_type": "markdown",
   "id": "cf3350dd-a28b-4493-b027-25b6849dde3f",
   "metadata": {},
   "source": [
    "Q31. Write a program to find the sum of all even numbers in a list.\n"
   ]
  },
  {
   "cell_type": "code",
   "execution_count": 18,
   "id": "3c272d00-97e1-488b-a12a-fceaea4369d2",
   "metadata": {},
   "outputs": [
    {
     "name": "stdout",
     "output_type": "stream",
     "text": [
      "Sum of even numbers: 30\n"
     ]
    }
   ],
   "source": [
    "def sum_even_numbers(numbers):\n",
    "    even_sum = 0\n",
    "\n",
    "    for num in numbers:\n",
    "        if num % 2 == 0:\n",
    "            even_sum += num\n",
    "\n",
    "    return even_sum\n",
    "\n",
    "# Example usage\n",
    "number_list = [1, 2, 3, 4, 5, 6, 7, 8, 9, 10]\n",
    "even_sum = sum_even_numbers(number_list)\n",
    "print(\"Sum of even numbers:\", even_sum)\n"
   ]
  },
  {
   "cell_type": "markdown",
   "id": "cd87a12e-46bd-4fa8-9c99-80aed2713019",
   "metadata": {},
   "source": [
    "Q32. Implement a function to calculate the power of a number using recursion."
   ]
  },
  {
   "cell_type": "code",
   "execution_count": 19,
   "id": "973b0fdb-e1b2-4a51-a807-ca59a16c5455",
   "metadata": {},
   "outputs": [
    {
     "name": "stdin",
     "output_type": "stream",
     "text": [
      "Enter the base number:  6\n",
      "Enter the exponent:  2\n"
     ]
    },
    {
     "name": "stdout",
     "output_type": "stream",
     "text": [
      "Result: 36.0\n"
     ]
    }
   ],
   "source": [
    "def power(base, exponent):\n",
    "    if exponent == 0:\n",
    "        return 1\n",
    "    elif exponent < 0:\n",
    "        return 1 / power(base, -exponent)\n",
    "    else:\n",
    "        return base * power(base, exponent - 1)\n",
    "\n",
    "# Example usage\n",
    "base = float(input(\"Enter the base number: \"))\n",
    "exponent = int(input(\"Enter the exponent: \"))\n",
    "result = power(base, exponent)\n",
    "print(\"Result:\", result)\n"
   ]
  },
  {
   "cell_type": "markdown",
   "id": "8f5c92cf-c10c-49c0-bd50-0882c3b23470",
   "metadata": {},
   "source": [
    "Q33. Write a Python program to remove duplicates from a list while preserving the order."
   ]
  },
  {
   "cell_type": "code",
   "execution_count": 20,
   "id": "c9aabb78-663f-434c-94c0-b6dcfe420932",
   "metadata": {},
   "outputs": [
    {
     "name": "stdout",
     "output_type": "stream",
     "text": [
      "List after removing duplicates: [1, 2, 3, 4, 5, 6]\n"
     ]
    }
   ],
   "source": [
    "def remove_duplicates_preserve_order(lst):\n",
    "    seen = set()\n",
    "    result = []\n",
    "\n",
    "    for item in lst:\n",
    "        if item not in seen:\n",
    "            seen.add(item)\n",
    "            result.append(item)\n",
    "\n",
    "    return result\n",
    "\n",
    "# Example usage\n",
    "input_list = [1, 2, 3, 2, 4, 3, 5, 6, 1]\n",
    "result_list = remove_duplicates_preserve_order(input_list)\n",
    "print(\"List after removing duplicates:\", result_list)\n"
   ]
  },
  {
   "cell_type": "markdown",
   "id": "7b8e5fd5-8973-434e-badd-a456f522a150",
   "metadata": {},
   "source": [
    "Q34. Implement a function to find the longest common prefix among a list of strings."
   ]
  },
  {
   "cell_type": "code",
   "execution_count": 21,
   "id": "e686753c-f041-45b1-b686-a64e2fb03845",
   "metadata": {},
   "outputs": [
    {
     "name": "stdout",
     "output_type": "stream",
     "text": [
      "Longest common prefix: fl\n"
     ]
    }
   ],
   "source": [
    "def longest_common_prefix(strings):\n",
    "    if not strings:\n",
    "        return ''\n",
    "\n",
    "    shortest_string = min(strings, key=len)\n",
    "    prefix = ''\n",
    "\n",
    "    for i in range(len(shortest_string)):\n",
    "        char = shortest_string[i]\n",
    "\n",
    "        for string in strings:\n",
    "            if string[i] != char:\n",
    "                return prefix\n",
    "\n",
    "        prefix += char\n",
    "\n",
    "    return prefix\n",
    "\n",
    "# Example usage\n",
    "input_strings = ['flower', 'flow', 'flight']\n",
    "common_prefix = longest_common_prefix(input_strings)\n",
    "print(\"Longest common prefix:\", common_prefix)\n"
   ]
  },
  {
   "cell_type": "markdown",
   "id": "c50476d3-f89b-4166-98d6-a695bb4e5b82",
   "metadata": {},
   "source": [
    "Q35. Write a program to check if a given number is a perfect square.\n"
   ]
  },
  {
   "cell_type": "code",
   "execution_count": 24,
   "id": "0eb021e6-8c8f-4144-9e29-331697857aa3",
   "metadata": {},
   "outputs": [
    {
     "name": "stdin",
     "output_type": "stream",
     "text": [
      "Enter a number:  4\n"
     ]
    },
    {
     "name": "stdout",
     "output_type": "stream",
     "text": [
      "The number is a perfect square.\n"
     ]
    }
   ],
   "source": [
    "def is_perfect_square(number):\n",
    "    if number < 0:\n",
    "        return False\n",
    "\n",
    "    if number == 0:\n",
    "        return True\n",
    "\n",
    "    start = 1\n",
    "    end = number\n",
    "\n",
    "    while start <= end:\n",
    "        mid = start + (end - start) // 2\n",
    "        square = mid * mid\n",
    "\n",
    "        if square == number:\n",
    "            return True\n",
    "        elif square < number:\n",
    "            start = mid + 1\n",
    "        else:\n",
    "            end = mid - 1\n",
    "\n",
    "    return False\n",
    "\n",
    "# Example usage\n",
    "num = int(input(\"Enter a number: \"))\n",
    "if is_perfect_square(num):\n",
    "    print(\"The number is a perfect square.\")\n",
    "else:\n",
    "    print(\"The number is not a perfect square.\")\n"
   ]
  },
  {
   "cell_type": "markdown",
   "id": "6eeaa718-0ee8-43f6-bfac-03f16d06aea4",
   "metadata": {},
   "source": [
    "Q36. Implement a function to calculate the product of all elements in a list.\n"
   ]
  },
  {
   "cell_type": "code",
   "execution_count": 25,
   "id": "380bcc76-2e31-4817-a733-6a66fa45dc14",
   "metadata": {},
   "outputs": [
    {
     "name": "stdout",
     "output_type": "stream",
     "text": [
      "Product: 120\n"
     ]
    }
   ],
   "source": [
    "def calculate_product(numbers):\n",
    "    if not numbers:\n",
    "        return None\n",
    "\n",
    "    product = 1\n",
    "\n",
    "    for num in numbers:\n",
    "        product *= num\n",
    "\n",
    "    return product\n",
    "\n",
    "# Example usage\n",
    "number_list = [2, 3, 4, 5]\n",
    "product = calculate_product(number_list)\n",
    "print(\"Product:\", product)\n"
   ]
  },
  {
   "cell_type": "markdown",
   "id": "07031a32-79e1-4625-8d36-82f6d282bbff",
   "metadata": {},
   "source": [
    "This program with any list of numbers to calculate the product of all elements. The program will output the product."
   ]
  },
  {
   "cell_type": "markdown",
   "id": "1da6dd74-d086-418a-a9c5-df67766cb863",
   "metadata": {},
   "source": [
    "Q37. Write a Python program to reverse the order of words in a sentence while preserving the "
   ]
  },
  {
   "cell_type": "code",
   "execution_count": 27,
   "id": "5b1fe63e-6659-48b3-89b1-cbdc50ad038a",
   "metadata": {},
   "outputs": [
    {
     "name": "stdin",
     "output_type": "stream",
     "text": [
      "Enter a sentence:  it returns the reversed sentence.\n"
     ]
    },
    {
     "name": "stdout",
     "output_type": "stream",
     "text": [
      "Reversed sentence: sentence. reversed the returns it\n"
     ]
    }
   ],
   "source": [
    "def reverse_words(sentence):\n",
    "    words = sentence.split()\n",
    "    reversed_words = words[::-1]\n",
    "    reversed_sentence = ' '.join(reversed_words)\n",
    "    return reversed_sentence\n",
    "\n",
    "# Example usage\n",
    "input_sentence = input(\"Enter a sentence: \")\n",
    "reversed_sentence = reverse_words(input_sentence)\n",
    "print(\"Reversed sentence:\", reversed_sentence)\n"
   ]
  },
  {
   "cell_type": "markdown",
   "id": "ade7f425-1ae3-40f2-aea1-61e1bac0dd10",
   "metadata": {},
   "source": [
    "Q38. Implement a function to find the missing number in a given list of consecutive numbers.\n"
   ]
  },
  {
   "cell_type": "code",
   "execution_count": 29,
   "id": "a0057da1-12e2-4b4a-b57d-05015ce85992",
   "metadata": {},
   "outputs": [
    {
     "name": "stdout",
     "output_type": "stream",
     "text": [
      "Missing number: 3\n"
     ]
    }
   ],
   "source": [
    "def find_missing_number(numbers):\n",
    "    n = len(numbers) + 1\n",
    "    total_sum = (n * (n + 1)) // 2\n",
    "    list_sum = sum(numbers)\n",
    "    missing_number = total_sum - list_sum\n",
    "    return missing_number\n",
    "\n",
    "# Example usage\n",
    "number_list = [1, 2, 4, 5, 6]\n",
    "missing_number = find_missing_number(number_list)\n",
    "print(\"Missing number:\", missing_number)\n"
   ]
  },
  {
   "cell_type": "markdown",
   "id": "e8623f5c-a464-4cbb-af64-1999f1dbfed1",
   "metadata": {},
   "source": [
    "Q39. Write a program to find the sum of digits of a given number.\n"
   ]
  },
  {
   "cell_type": "code",
   "execution_count": 31,
   "id": "cba10dd9-37c1-4221-a317-961af56be5e0",
   "metadata": {},
   "outputs": [
    {
     "name": "stdin",
     "output_type": "stream",
     "text": [
      "Enter a number:  50\n"
     ]
    },
    {
     "name": "stdout",
     "output_type": "stream",
     "text": [
      "Sum of digits: 5\n"
     ]
    }
   ],
   "source": [
    "def sum_of_digits(number):\n",
    "    sum = 0\n",
    "\n",
    "    while number > 0:\n",
    "        digit = number % 10\n",
    "        sum += digit\n",
    "        number //= 10\n",
    "\n",
    "    return sum\n",
    "\n",
    "# Example usage\n",
    "num = int(input(\"Enter a number: \"))\n",
    "digit_sum = sum_of_digits(num)\n",
    "print(\"Sum of digits:\", digit_sum)\n"
   ]
  },
  {
   "cell_type": "markdown",
   "id": "fca637b8-0f1e-414f-bc4b-8ebac6c0effc",
   "metadata": {},
   "source": [
    "Q40. Implement a function to check if a given string is a valid palindrome considering case sensitivity.\n"
   ]
  },
  {
   "cell_type": "code",
   "execution_count": 34,
   "id": "a8c71993-f88f-428b-a169-f64be1679486",
   "metadata": {},
   "outputs": [
    {
     "name": "stdin",
     "output_type": "stream",
     "text": [
      "Enter a string:  radar\n"
     ]
    },
    {
     "name": "stdout",
     "output_type": "stream",
     "text": [
      "The string is a valid palindrome.\n"
     ]
    }
   ],
   "source": [
    "def is_valid_palindrome(input_string):\n",
    "    # Remove spaces and punctuation\n",
    "    alphanumeric_string = ''.join(ch.lower() for ch in input_string if ch.isalnum())\n",
    "\n",
    "    # Check if the alphanumeric string is a palindrome\n",
    "    return alphanumeric_string == alphanumeric_string[::-1]\n",
    "\n",
    "# Example usage\n",
    "string_to_check = input(\"Enter a string: \")\n",
    "if is_valid_palindrome(string_to_check):\n",
    "    print(\"The string is a valid palindrome.\")\n",
    "else:\n",
    "    print(\"The string is not a valid palindrome.\")\n"
   ]
  },
  {
   "cell_type": "markdown",
   "id": "ec7a9ee5-5b6b-4f5a-8f93-3e7ec1096b06",
   "metadata": {},
   "source": [
    "Q41. Write a Python program to find the smallest missing positive integer in a list.\n"
   ]
  },
  {
   "cell_type": "code",
   "execution_count": 35,
   "id": "c2b8f100-8b51-4825-90ea-f68964908f77",
   "metadata": {},
   "outputs": [
    {
     "name": "stdout",
     "output_type": "stream",
     "text": [
      "Smallest missing positive integer: 2\n"
     ]
    }
   ],
   "source": [
    "def find_smallest_missing_positive(nums):\n",
    "    n = len(nums)\n",
    "\n",
    "    # Step 1: Move all positive integers to the front of the list\n",
    "    j = 0\n",
    "    for i in range(n):\n",
    "        if nums[i] > 0:\n",
    "            nums[i], nums[j] = nums[j], nums[i]\n",
    "            j += 1\n",
    "\n",
    "    # Step 2: Mark visited numbers\n",
    "    for i in range(j):\n",
    "        num = abs(nums[i])\n",
    "        if num <= j:\n",
    "            nums[num - 1] = -abs(nums[num - 1])\n",
    "\n",
    "    # Step 3: Find the first missing positive number\n",
    "    for i in range(j):\n",
    "        if nums[i] > 0:\n",
    "            return i + 1\n",
    "\n",
    "    return j + 1\n",
    "\n",
    "# Example usage\n",
    "input_nums = [3, 4, -1, 1]\n",
    "smallest_missing = find_smallest_missing_positive(input_nums)\n",
    "print(\"Smallest missing positive integer:\", smallest_missing)\n"
   ]
  },
  {
   "cell_type": "markdown",
   "id": "efa01979-538b-4cd9-8785-d08f47af1e0c",
   "metadata": {},
   "source": [
    "Q42. Implement a function to find the longest palindrome substring in a given string.\n"
   ]
  },
  {
   "cell_type": "code",
   "execution_count": 38,
   "id": "78a014de-c595-4a55-9eef-bfed2397679f",
   "metadata": {},
   "outputs": [
    {
     "name": "stdin",
     "output_type": "stream",
     "text": [
      "Enter a string:  sushovan\n"
     ]
    },
    {
     "name": "stdout",
     "output_type": "stream",
     "text": [
      "Longest palindrome substring: sus\n"
     ]
    }
   ],
   "source": [
    "def longest_palindrome_substring(string):\n",
    "    n = len(string)\n",
    "    longest_palindrome = ''\n",
    "\n",
    "    # Helper function to expand around center\n",
    "    def expand_around_center(left, right):\n",
    "        while left >= 0 and right < n and string[left] == string[right]:\n",
    "            left -= 1\n",
    "            right += 1\n",
    "        return string[left + 1 : right]\n",
    "\n",
    "    # Check for even-length palindromes\n",
    "    for i in range(n - 1):\n",
    "        palindrome = expand_around_center(i, i + 1)\n",
    "        if len(palindrome) > len(longest_palindrome):\n",
    "            longest_palindrome = palindrome\n",
    "\n",
    "    # Check for odd-length palindromes\n",
    "    for i in range(n):\n",
    "        palindrome = expand_around_center(i, i)\n",
    "        if len(palindrome) > len(longest_palindrome):\n",
    "            longest_palindrome = palindrome\n",
    "\n",
    "    return longest_palindrome\n",
    "\n",
    "# Example usage\n",
    "input_string = input(\"Enter a string: \")\n",
    "result = longest_palindrome_substring(input_string)\n",
    "print(\"Longest palindrome substring:\", result)\n"
   ]
  },
  {
   "cell_type": "markdown",
   "id": "6228cb9b-d8c2-484e-87ee-962fcfa2eb41",
   "metadata": {},
   "source": [
    "Q43. Write a program to find the number of occurrences of a given element in a list.\n"
   ]
  },
  {
   "cell_type": "code",
   "execution_count": 39,
   "id": "ce1c60dd-e5e7-421f-991f-e87aecf82aee",
   "metadata": {},
   "outputs": [
    {
     "name": "stdout",
     "output_type": "stream",
     "text": [
      "Number of occurrences: 3\n"
     ]
    }
   ],
   "source": [
    "def count_occurrences(lst, element):\n",
    "    count = 0\n",
    "\n",
    "    for item in lst:\n",
    "        if item == element:\n",
    "            count += 1\n",
    "\n",
    "    return count\n",
    "\n",
    "# Example usage\n",
    "input_list = [1, 2, 3, 2, 4, 2, 5]\n",
    "element_to_count = 2\n",
    "occurrence_count = count_occurrences(input_list, element_to_count)\n",
    "print(\"Number of occurrences:\", occurrence_count)\n"
   ]
  },
  {
   "cell_type": "markdown",
   "id": "64fad7c3-0f13-4639-b3f0-09a9951b303e",
   "metadata": {},
   "source": [
    "Q44. Implement a function to check if a given number is a perfect number."
   ]
  },
  {
   "cell_type": "code",
   "execution_count": 46,
   "id": "f26b086e-3cbe-4d8f-9890-7131d823ee61",
   "metadata": {},
   "outputs": [
    {
     "name": "stdin",
     "output_type": "stream",
     "text": [
      "Enter a number:  100\n"
     ]
    },
    {
     "name": "stdout",
     "output_type": "stream",
     "text": [
      "The number is not a perfect number.\n"
     ]
    }
   ],
   "source": [
    "def is_perfect_number(number):\n",
    "    if number <= 0:\n",
    "        return False\n",
    "\n",
    "    divisors = []\n",
    "    for i in range(1, number):\n",
    "        if number % i == 0:\n",
    "            divisors.append(i)\n",
    "\n",
    "    if sum(divisors) == number:\n",
    "        return True\n",
    "    else:\n",
    "        return False\n",
    "\n",
    "# Example usage\n",
    "num = int(input(\"Enter a number: \"))\n",
    "if is_perfect_number(num):\n",
    "    print(\"The number is a perfect number.\")\n",
    "else:\n",
    "    print(\"The number is not a perfect number.\")\n"
   ]
  },
  {
   "cell_type": "markdown",
   "id": "f586d932-8eab-4706-9f94-6899166005d0",
   "metadata": {},
   "source": [
    "Q45. Write a Python program to remove all duplicates from a string.\n"
   ]
  },
  {
   "cell_type": "code",
   "execution_count": 47,
   "id": "32529d5a-f888-4fcf-819a-7b020ede2a64",
   "metadata": {},
   "outputs": [
    {
     "name": "stdin",
     "output_type": "stream",
     "text": [
      "Enter a string:  123\n"
     ]
    },
    {
     "name": "stdout",
     "output_type": "stream",
     "text": [
      "String with duplicates removed: 123\n"
     ]
    }
   ],
   "source": [
    "def remove_duplicates(string):\n",
    "    # Create an empty set to store unique characters\n",
    "    unique_chars = set()\n",
    "\n",
    "    # Iterate over each character in the string\n",
    "    # and add it to the set if it is not already present\n",
    "    result = \"\"\n",
    "    for char in string:\n",
    "        if char not in unique_chars:\n",
    "            unique_chars.add(char)\n",
    "            result += char\n",
    "\n",
    "    return result\n",
    "\n",
    "# Example usage\n",
    "input_string = input(\"Enter a string: \")\n",
    "result = remove_duplicates(input_string)\n",
    "print(\"String with duplicates removed:\", result)\n"
   ]
  },
  {
   "cell_type": "code",
   "execution_count": null,
   "id": "6f28bb05-4e9c-49f2-a7e5-8c0fa7bc7ab7",
   "metadata": {},
   "outputs": [],
   "source": []
  }
 ],
 "metadata": {
  "kernelspec": {
   "display_name": "Python 3 (ipykernel)",
   "language": "python",
   "name": "python3"
  },
  "language_info": {
   "codemirror_mode": {
    "name": "ipython",
    "version": 3
   },
   "file_extension": ".py",
   "mimetype": "text/x-python",
   "name": "python",
   "nbconvert_exporter": "python",
   "pygments_lexer": "ipython3",
   "version": "3.10.6"
  }
 },
 "nbformat": 4,
 "nbformat_minor": 5
}
